{
 "cells": [
  {
   "cell_type": "code",
   "execution_count": 60,
   "id": "eba2b250-8ef8-42f3-8510-f5dab840d2b8",
   "metadata": {},
   "outputs": [],
   "source": [
    "import pandas as pd\n",
    "import numpy as np\n",
    "import matplotlib.pyplot as plt\n",
    "from scipy.stats import moment\n",
    "from scipy.stats import kurtosis"
   ]
  },
  {
   "attachments": {},
   "cell_type": "markdown",
   "id": "62bdcf70-7384-4643-97ba-51ce0d5a9c7b",
   "metadata": {},
   "source": [
    "It is assumed that the log price p=ln⁡(P) follows a Brownian motion with zero drift and diffusion σ\n",
    "One day is used as a unit of time meaning the diffusion σ coincides with the daily standard deviation of returns.  \n",
    "The daily return c is a random variable c~N(0,$σ^2$).  \n",
    "The goal is to estimate the unobservable volatility $σ^2$ from observed variables c, h, and l."
   ]
  },
  {
   "cell_type": "markdown",
   "id": "d6b8f1b9-5d61-4d00-b630-7807bfd4af63",
   "metadata": {},
   "source": [
    "__1.   Volatility Estimators__"
   ]
  },
  {
   "cell_type": "markdown",
   "id": "ac963b93-1475-4f36-b986-934251e9994c",
   "metadata": {},
   "source": [
    "__1.1   Simple Estimator__  \n",
    "\n",
    "$\\hat{σ_{s}^2} = c^2$  \n",
    "\n",
    "This unbiased estimator of $σ^2$ is rather very noisy and several better estimators which factor in high and low prices have been proposed."
   ]
  },
  {
   "cell_type": "code",
   "execution_count": 29,
   "id": "f96ab97d-48ed-4948-b7ac-c38ad4c42ac0",
   "metadata": {},
   "outputs": [],
   "source": [
    "def simple_var(h, l, c):\n",
    "    return c**2"
   ]
  },
  {
   "cell_type": "markdown",
   "id": "0d3b3f8b-87c5-408a-bc71-c4afda68fcd6",
   "metadata": {},
   "source": [
    "__1.2   Parkinson Estimator__   \n",
    "  \n",
    "$\\hat{σ_{p}^2} = \\frac{(h-l)^2}{4ln2}$"
   ]
  },
  {
   "cell_type": "code",
   "execution_count": 30,
   "id": "9b2b225b-0ebe-4be6-b54d-5c90e73814c8",
   "metadata": {},
   "outputs": [],
   "source": [
    "def parkinson_var(h, l, c):\n",
    "    return (h - l)**2 / (4 * np.log(2))"
   ]
  },
  {
   "cell_type": "markdown",
   "id": "99933ae3-b87d-43e1-af29-c60d872c22da",
   "metadata": {},
   "source": [
    "__1.3   Garman and Klass Estimator__ \n",
    " \n",
    "$\\hat{σ_{GK}^2} = 0.511(h-l)^2 - 0.019(c(h+l)-2hl)-0.383c^2$ \n",
    "\n",
    "Given the cross product term is very small, they recommend dropping it and using the more practical estimator:  \n",
    "  \n",
    "$\\hat{σ_{GK}^2} = 0.5(h-l)^2 - (2ln2-1)c^2$  \n",
    "\n",
    "This estimator can be seen as the optimal combination (minimum variance) of the simple and parkinson estimator"
   ]
  },
  {
   "cell_type": "code",
   "execution_count": 31,
   "id": "22ff541f-0ddf-40bf-910b-cb328e53f2da",
   "metadata": {},
   "outputs": [],
   "source": [
    "def garman_klass_var(h, l, c):\n",
    "    return 0.5 * (h - l)**2 - (2 * np.log(2) - 1) * c**2"
   ]
  },
  {
   "cell_type": "markdown",
   "id": "2c7c0d82-16dd-4db0-b2fb-2befcfab1466",
   "metadata": {},
   "source": [
    "__1.4   Meilijson Estimator__  \n",
    "\n",
    "This estimator is outside the class of analytical estimators and has a smaller variance than the Garman-Klass estimator.\n",
    "\n",
    "$\\hat{σ_{M}^2} = 0.27352σ_{1}^2 + 0.160358σ_{s}^2 + 0.365212σ_{3}^2 + 0.200910σ_{4}^2$  \n",
    "where  \n",
    "$σ_{1}^2 = 2[(h^{'}-c^{'})^2 + {l^{'}}^{2}]$  \n",
    "$σ_{3}^2 = 2(h^{'}-c^{'}-l^{'})c^{'}$  \n",
    "$σ_{4}^2 = \\frac{(h^{'}-c^{'})l^{'}}{2ln2-1.25}$  \n",
    "$c^{'}=c, h^{'}=h, l^{'}=l if c > 0$  \n",
    "$c^{'}=|c|$  \n",
    "$h^{'} = \\begin{cases} h & \\text{if } c > 0 \\\\ -l & \\text{if } c < 0 \\end{cases}$  \n",
    "$l^{'} = \\begin{cases} l & \\text{if } c > 0 \\\\ -h & \\text{if } c < 0 \\end{cases}$\n"
   ]
  },
  {
   "cell_type": "code",
   "execution_count": 41,
   "id": "5b7be37b-b280-4f38-a477-f23537b29e38",
   "metadata": {},
   "outputs": [],
   "source": [
    "def meilijson_var(h, l, c):\n",
    "    c1 = abs(c)\n",
    "    h1 = np.where(c < 0.0, -l, h)\n",
    "    l1 = np.where(c < 0.0, -h, l)\n",
    "    var1 = 2 * ((h1 - c1)**2 + l1**2)\n",
    "    var_s = simple_var(h, l, c)\n",
    "    var3 = 2 * (h1 - c1 - l1) * c1\n",
    "    var4 = ((c1 - h1) * l1) / (2 * np.log(2) - 1.25)\n",
    "    var_m = 0.27352 * var1 + 0.160358 * var_s + 0.365212 * var3 + 0.200910 * var4\n",
    "    return var_m"
   ]
  },
  {
   "cell_type": "markdown",
   "id": "366ef0a5-1964-4afb-8daa-888105d72a86",
   "metadata": {},
   "source": [
    "__1.5   Rogers and Satchell Estimator__  \n",
    "\n",
    "This estimator allows for arbitrary drift and is given as:  \n",
    "\n",
    "$\\hat{σ_{RS}^2} = h(h-c)+l(l-c)$"
   ]
  },
  {
   "cell_type": "code",
   "execution_count": 33,
   "id": "6ad9b8d1-3889-450a-aa7d-ef507ab09b0b",
   "metadata": {},
   "outputs": [],
   "source": [
    "def rogers_satchell_var(h, l, c):\n",
    "    return h * (h-c) + l * (l-c)"
   ]
  },
  {
   "cell_type": "markdown",
   "id": "d92b70d1-01f6-423e-964b-c266dd6249af",
   "metadata": {},
   "source": [
    "<br>\n",
    "\n",
    "__2.   Bias in σ__"
   ]
  },
  {
   "cell_type": "markdown",
   "id": "2ed7fd59-c7da-4c3d-a3fa-1870d1533209",
   "metadata": {},
   "source": [
    "The estimators introduced are all unbiased estimators of $σ^2$. Consequently, the square root of these estimators are all biased estimators of σ.  \n",
    "In many cases we are interested in σ and not $σ^2$, however, it is very common to use $\\sqrt{\\hat{σ^2}}$ to estimate σ.  \n",
    "It is therefore important to understand the magnitude of the error introduced by doing so."
   ]
  },
  {
   "cell_type": "markdown",
   "id": "b445844b-ec00-4b71-bf13-ca2b9cf53954",
   "metadata": {},
   "source": [
    "To evaluate the bias introduced by using $\\sqrt{\\hat{σ^2}}$ instead of $\\hat{σ}$, we want to find the constant c such that:\n",
    "$\\hat{σ}=c\\sqrt{\\hat{σ^2}}$\n",
    "To achieve this we'll run N simulations with each simulation representing a trading day such that the log price follows a brownian motion with zero drift and daily diffusion σ=1. The continuous brownian motion is approximated by n discrete intraday returns drawn from $N(0, 1/\\sqrt{n})$\n"
   ]
  },
  {
   "cell_type": "code",
   "execution_count": 49,
   "id": "b47573c2-af2c-49ab-ae61-fb38286c49c6",
   "metadata": {},
   "outputs": [
    {
     "name": "stdout",
     "output_type": "stream",
     "text": [
      "The bias of the Simple estimator is approximately 25.62%.\n",
      "The bias of the Parkinson estimator is approximately 4.84%.\n",
      "The bias of the Garma-Klass estimator is approximately 3.67%.\n",
      "The bias of the Meilijson estimator is approximately 3.63%.\n",
      "The bias of the Rogers-Satchell estimator is approximately 4.58%.\n"
     ]
    }
   ],
   "source": [
    "N = 10000\n",
    "n = 100000\n",
    "\n",
    "np.random.seed(1)\n",
    "St = np.empty((N, n + 1))\n",
    "St[:, 0] = 0.\n",
    "St[:, 1:] = np.random.normal(scale=np.sqrt(1/n), size=(N,n))\n",
    "St = np.cumsum(St, axis=1)\n",
    "\n",
    "c = St[:,-1]                # open-to-close return\n",
    "h = np.max(St, axis=1)      # open-to-high return\n",
    "l = np.min(St, axis=1)      # open-to-low return\n",
    "\n",
    "var_s = simple_var(h, l, c)\n",
    "var_pk = parkinson_var(h, l, c)\n",
    "var_gk = garman_klass_var(h, l, c)\n",
    "var_m = meilijson_var(h, l, c)\n",
    "var_rs = rogers_satchell_var(h, l, c)\n",
    "\n",
    "\n",
    "c_s = 1.0 / np.sqrt(var_s).mean()\n",
    "c_pk = 1.0 / np.sqrt(var_pk).mean()\n",
    "c_gk = 1.0 / np.sqrt(var_gk).mean()\n",
    "c_m = 1.0 / np.sqrt(var_m).mean()\n",
    "c_rs = 1.0 / np.sqrt(var_rs).mean()\n",
    "\n",
    "\n",
    "print(f\"The bias of the Simple estimator is approximately {c_s-1:.2%}.\")\n",
    "print(f\"The bias of the Parkinson estimator is approximately {c_pk-1:.2%}.\")\n",
    "print(f\"The bias of the Garma-Klass estimator is approximately {c_gk-1:.2%}.\")\n",
    "print(f\"The bias of the Meilijson estimator is approximately {c_m-1:.2%}.\")\n",
    "print(f\"The bias of the Rogers-Satchell estimator is approximately {c_rs-1:.2%}.\")\n",
    "\n",
    "\n",
    "\n"
   ]
  },
  {
   "cell_type": "markdown",
   "id": "e3327716-3686-49c0-bd20-6fce98d58b3d",
   "metadata": {},
   "source": [
    "The square root of the simple estimator is a very biased estimator of standard deviation (~26% bias) while the range-based estimators have smaller bias (3%-5%)"
   ]
  },
  {
   "cell_type": "markdown",
   "id": "fb412fcd-af00-4aa3-adb2-234c75f19890",
   "metadata": {},
   "source": [
    "__2.1   Distributional properties__"
   ]
  },
  {
   "cell_type": "markdown",
   "id": "8147f4a1-0867-4ea9-9199-1aa9d048ba26",
   "metadata": {},
   "source": [
    "We'll examine the distributions of $\\hat{σ^2}$, $\\sqrt{\\hat{σ^2}}$ and $\\ln{\\hat{σ^2}}$ because they are the quantities modeled by volatility models.  \n",
    "Most GARCH models try to capture the time evolution of $σ^2$, EGARCH and stochastic volatility models are based on the time evolution of $\\ln{σ^2}$  \n",
    "and some GARCH models model the time evolution of $σ$"
   ]
  },
  {
   "cell_type": "markdown",
   "id": "cd6e7836-3d27-423c-932f-12718f3b6e31",
   "metadata": {},
   "source": [
    "<br>\n",
    "\n",
    "__2.1.1   Distributional properties of $\\hat{σ^2}$ estimators__"
   ]
  },
  {
   "cell_type": "code",
   "execution_count": 56,
   "id": "67cf6b16-80ce-4afa-bf28-6a0343ce7161",
   "metadata": {},
   "outputs": [
    {
     "data": {
      "text/plain": [
       "[0.0, 3.0, 0.0, 3.0, 0.0, 3.0, 0.0, 3.0, 0.0, 3.0]"
      ]
     },
     "execution_count": 56,
     "metadata": {},
     "output_type": "execute_result"
    },
    {
     "data": {
      "image/png": "[encoded data removed]",
      "text/plain": [
       "<Figure size 640x480 with 5 Axes>"
      ]
     },
     "metadata": {},
     "output_type": "display_data"
    }
   ],
   "source": [
    "fig, ax = plt.subplots(5, sharex=True)\n",
    "ax1, ax2, ax3, ax4, ax5 = ax\n",
    "\n",
    "ax1.text(.93,.7, 'Simple', horizontalalignment='center', transform=ax1.transAxes);\n",
    "ax1.hist(var_s, density=True, bins=100, edgecolor='black', linewidth=0.5);\n",
    "\n",
    "ax2.text(.91,.7, 'Parkinson', horizontalalignment='center', transform=ax2.transAxes);\n",
    "ax2.hist(var_pk, density=True, bins=100, edgecolor='black', linewidth=0.5);\n",
    "\n",
    "ax3.text(.88,.7, 'Garman-Klass', horizontalalignment='center', transform=ax3.transAxes);\n",
    "ax3.hist(var_gk, density=True, bins=100, edgecolor='black', linewidth=0.5);\n",
    "\n",
    "ax4.text(.87,.7, 'Meilijson', horizontalalignment='center', transform=ax4.transAxes);\n",
    "ax4.hist(var_m, density=True, bins=100, edgecolor='black', linewidth=0.5);\n",
    "\n",
    "ax5.text(.87,.7, 'Rogers-Satchell', horizontalalignment='center', transform=ax5.transAxes);\n",
    "ax5.hist(var_rs, density=True, bins=100, edgecolor='black', linewidth=0.5);\n",
    "\n",
    "plt.setp(ax, xlim=(0.0, 3.0))"
   ]
  },
  {
   "cell_type": "markdown",
   "id": "cc384624-ce51-42dd-8812-6d380f98d11e",
   "metadata": {},
   "source": [
    "The estimators are all unbiased and therefore have the same mean.  \n",
    "While the density for range-based estimators are approximately lognormal, the distribution of squared returns, which is a $X^2$ distribution with one degree of freedom, is very dispersed and reaches maximum at zero.\n",
    "Therefore, for most puposes, the distributional properties of range-based estimators make them more attractive."
   ]
  },
  {
   "cell_type": "markdown",
   "id": "6b6755da-eec0-4832-86b3-400d3f357ea8",
   "metadata": {},
   "source": [
    "<br>\n",
    "\n",
    "__2.1.2   Distributional properties of $\\sqrt{\\hat{σ^2}}$ estimators__"
   ]
  },
  {
   "cell_type": "code",
   "execution_count": 58,
   "id": "af1849c4-1267-4a05-99b7-fa68cc720bb2",
   "metadata": {},
   "outputs": [
    {
     "data": {
      "text/plain": [
       "[0.0, 3.0, 0.0, 3.0, 0.0, 3.0, 0.0, 3.0, 0.0, 3.0]"
      ]
     },
     "execution_count": 58,
     "metadata": {},
     "output_type": "execute_result"
    },
    {
     "data": {
      "image/png": "[encoded data removed]",
      "text/plain": [
       "<Figure size 640x480 with 5 Axes>"
      ]
     },
     "metadata": {},
     "output_type": "display_data"
    }
   ],
   "source": [
    "fig, ax = plt.subplots(5, sharex=True)\n",
    "ax1, ax2, ax3, ax4, ax5 = ax\n",
    "\n",
    "ax1.text(.93,.7, 'Simple', horizontalalignment='center', transform=ax1.transAxes);\n",
    "ax1.hist(var_s**0.5, density=True, bins=100, edgecolor='black', linewidth=0.5);\n",
    "\n",
    "ax2.text(.91,.7, 'Parkinson', horizontalalignment='center', transform=ax2.transAxes);\n",
    "ax2.hist(var_pk**0.5, density=True, bins=100, edgecolor='black', linewidth=0.5);\n",
    "\n",
    "ax3.text(.88,.7, 'Garman-Klass', horizontalalignment='center', transform=ax3.transAxes);\n",
    "ax3.hist(var_gk**0.5, density=True, bins=100, edgecolor='black', linewidth=0.5);\n",
    "\n",
    "ax4.text(.87,.7, 'Meilijson', horizontalalignment='center', transform=ax4.transAxes);\n",
    "ax4.hist(var_m**0.5, density=True, bins=100, edgecolor='black', linewidth=0.5);\n",
    "\n",
    "ax5.text(.87,.7, 'Rogers-Satchell', horizontalalignment='center', transform=ax5.transAxes);\n",
    "ax5.hist(var_rs**0.5, density=True, bins=100, edgecolor='black', linewidth=0.5);\n",
    "\n",
    "plt.setp(ax, xlim=(0.0, 3.0))"
   ]
  },
  {
   "cell_type": "markdown",
   "id": "bcd630d3-fc67-428b-aa81-fdbeb87df9b0",
   "metadata": {},
   "source": [
    "The distributions of $\\sqrt{\\hat{σ^2}}$ estimators have less weight on the tails than those of $\\hat{σ^2}$ estimators.  \n",
    "This is due to the square root function which transorms small values (< 1) into larger values (closer to 1) and transforms large values (> 1) into smaller values (values closer to 1). The ideal estimator should mean close to 1 (true value) and standard deviation should be as small as possible."
   ]
  },
  {
   "cell_type": "code",
   "execution_count": 77,
   "id": "affe30af-5708-4b26-86df-603f0a7dc871",
   "metadata": {},
   "outputs": [
    {
     "name": "stdout",
     "output_type": "stream",
     "text": [
      "            Mean       Std  Skewness  Kurtosis\n",
      "Simple  0.796030  0.596625  1.003859  3.918998\n",
      "Park    0.953838  0.281517  0.979912  4.331519\n",
      "GK      0.964618  0.241563  0.579034  3.358882\n",
      "M       0.964987  0.239575  0.531946  3.293906\n",
      "RS      0.956201  0.271928  0.427391  3.492035\n"
     ]
    }
   ],
   "source": [
    "df = pd.DataFrame(columns=['Mean', 'Std', 'Skewness', 'Kurtosis'])\n",
    "\n",
    "sigma_s = var_s**0.5\n",
    "sigma_pk = var_pk**0.5\n",
    "sigma_gk = var_gk**0.5\n",
    "sigma_m = var_m**0.5\n",
    "sigma_rs = var_rs**0.5\n",
    "\n",
    "df.loc['Simple'] = [sigma_s.mean(), sigma_s.std(), moment(sigma_s, 3)/sigma_s.std()**3, kurtosis(sigma_s, fisher=False)]\n",
    "df.loc['Park'] = [sigma_pk.mean(), sigma_pk.std(), moment(sigma_pk, 3)/sigma_pk.std()**3, kurtosis(sigma_pk, fisher=False)]\n",
    "df.loc['GK'] = [sigma_gk.mean(), sigma_gk.std(), moment(sigma_gk, 3)/sigma_gk.std()**3, kurtosis(sigma_gk, fisher=False)]\n",
    "df.loc['M'] = [sigma_m.mean(), sigma_m.std(), moment(sigma_m, 3)/sigma_m.std()**3, kurtosis(sigma_m, fisher=False)]\n",
    "df.loc['RS'] = [sigma_rs.mean(), sigma_rs.std(), moment(sigma_rs, 3)/sigma_rs.std()**3, kurtosis(sigma_rs, fisher=False)]\n",
    "\n",
    "print(df)"
   ]
  },
  {
   "cell_type": "markdown",
   "id": "8cadc7a7-8b9b-4d86-8e8c-97290744d16a",
   "metadata": {},
   "source": [
    "The range based estimators all do well with the Meilijson being the best."
   ]
  },
  {
   "cell_type": "markdown",
   "id": "07c54957-115c-48c1-9d97-bf608406eeb7",
   "metadata": {},
   "source": [
    "<br>\n",
    "\n",
    "__2.1.3   Distributional properties of $\\ln{\\hat{σ^2}}$ estimators__"
   ]
  },
  {
   "cell_type": "code",
   "execution_count": 68,
   "id": "f8d7b9ed-abfa-4d25-afbc-3d4e6cc408c0",
   "metadata": {},
   "outputs": [
    {
     "data": {
      "text/plain": [
       "[-4.0, 4.0, -4.0, 4.0, -4.0, 4.0, -4.0, 4.0, -4.0, 4.0]"
      ]
     },
     "execution_count": 68,
     "metadata": {},
     "output_type": "execute_result"
    },
    {
     "data": {
      "image/png": "[encoded data removed]",
      "text/plain": [
       "<Figure size 640x480 with 5 Axes>"
      ]
     },
     "metadata": {},
     "output_type": "display_data"
    }
   ],
   "source": [
    "fig, ax = plt.subplots(5, sharex=True)\n",
    "ax1, ax2, ax3, ax4, ax5 = ax\n",
    "\n",
    "ax1.text(.93,.7, 'Simple', horizontalalignment='center', transform=ax1.transAxes);\n",
    "ax1.hist(np.log(var_s), density=True, bins=100, edgecolor='black', linewidth=0.5);\n",
    "\n",
    "ax2.text(.91,.7, 'Parkinson', horizontalalignment='center', transform=ax2.transAxes);\n",
    "ax2.hist(np.log(var_pk), density=True, bins=100, edgecolor='black', linewidth=0.5);\n",
    "\n",
    "ax3.text(.88,.7, 'Garman-Klass', horizontalalignment='center', transform=ax3.transAxes);\n",
    "ax3.hist(np.log(var_gk), density=True, bins=100, edgecolor='black', linewidth=0.5);\n",
    "\n",
    "ax4.text(.87,.7, 'Meilijson', horizontalalignment='center', transform=ax4.transAxes);\n",
    "ax4.hist(np.log(var_m), density=True, bins=100, edgecolor='black', linewidth=0.5);\n",
    "\n",
    "ax5.text(.87,.7, 'Rogers-Satchell', horizontalalignment='center', transform=ax5.transAxes);\n",
    "ax5.hist(np.log(var_rs), density=True, bins=100, edgecolor='black', linewidth=0.5);\n",
    "\n",
    "plt.setp(ax, xlim=(-4, 4))"
   ]
  },
  {
   "attachments": {},
   "cell_type": "markdown",
   "id": "89332a76-486e-4b6f-9918-769117d20f35",
   "metadata": {},
   "source": [
    "The logarith of square returns is highly nonnormally distributed but the log of range based estimators are similar to the normal distribution.  \n",
    "Given the true volatility is normalized to 1 and normality is desirable for practical reasons, an ideal distribution of log estimates should have zero mean and zero skewness."
   ]
  },
  {
   "cell_type": "code",
   "execution_count": 73,
   "id": "78d8458f-e2c3-488a-8c3e-6c66bf008690",
   "metadata": {},
   "outputs": [
    {
     "name": "stdout",
     "output_type": "stream",
     "text": [
      "            Mean       Std  Skewness  Kurtosis\n",
      "Simple -1.252729  2.179951 -1.523880  6.977300\n",
      "Park   -0.176263  0.567861  0.160134  2.837364\n",
      "GK     -0.134352  0.501986 -0.126950  2.937180\n",
      "M      -0.132974  0.500435 -0.173088  2.960700\n",
      "RS     -0.175750  0.607635 -0.832663  6.196719\n"
     ]
    }
   ],
   "source": [
    "df = pd.DataFrame(columns=['Mean', 'Std', 'Skewness', 'Kurtosis'])\n",
    "\n",
    "log_s = np.log(var_s)\n",
    "log_pk = np.log(var_pk)\n",
    "log_gk = np.log(var_gk)\n",
    "log_m = np.log(var_m)\n",
    "log_rs = np.log(var_rs)\n",
    "\n",
    "df.loc['Simple'] = [log_s.mean(), log_s.std(), moment(log_s, 3)/log_s.std()**3, kurtosis(log_s, fisher=False)]\n",
    "df.loc['Park'] = [log_pk.mean(), log_pk.std(), moment(log_pk, 3)/log_pk.std()**3, kurtosis(log_pk, fisher=False)]\n",
    "df.loc['GK'] = [log_gk.mean(), log_gk.std(), moment(log_gk, 3)/log_gk.std()**3, kurtosis(log_gk, fisher=False)]\n",
    "df.loc['M'] = [log_m.mean(), log_m.std(), moment(log_m, 3)/log_m.std()**3, kurtosis(log_m, fisher=False)]\n",
    "df.loc['RS'] = [log_rs.mean(), log_rs.std(), moment(log_rs, 3)/log_rs.std()**3, kurtosis(log_rs, fisher=False)]\n",
    "\n",
    "print(df)"
   ]
  },
  {
   "cell_type": "markdown",
   "id": "658ca498-4a68-4f83-be3c-ed04ffb64b2e",
   "metadata": {},
   "source": [
    "The Garman-Klass and the Meilijson volatility estimators , in addition to being most efficient, have best distributional properties."
   ]
  },
  {
   "cell_type": "markdown",
   "id": "bad378d0-b40b-4e19-91bd-799d7bf7a2ba",
   "metadata": {},
   "source": [
    "<br>\n",
    "\n",
    "__3.  Jump Component__"
   ]
  },
  {
   "cell_type": "markdown",
   "id": "c33c23da-740b-489d-b510-3c0f899c73f3",
   "metadata": {},
   "source": [
    "Most assets are not traded continuously 24 hours a day. Therefore, opening price is not necessarily equal to the previous day closing price.  \n",
    "Given we are interested in the movement throghout the whole day and not just the trading part of the day, we thus define daily returns as:  \n",
    "$r_{i} = \\ln{C_{i}}-\\ln{C_{i-1}}$  \n",
    "\n",
    "We therefore need to add $j^2$ to each of the estimators\n",
    "where $j = \\ln{O_{i}}-\\ln{C_{i-1}}$ \n",
    "This unfortunately increases the variance of these estimators but it's the only way to get unbiased estimators without imposing additional assumptions."
   ]
  },
  {
   "cell_type": "markdown",
   "id": "74e33105-ab99-4b84-a792-26391e986de3",
   "metadata": {},
   "source": [
    "__References__"
   ]
  },
  {
   "cell_type": "markdown",
   "id": "8a110cd6-871f-45b8-b50a-ef2d90c9f501",
   "metadata": {},
   "source": [
    "1) Molnar, P. (2012). Properties of range-based volatility estimators. International Review of Financial Analysis, 23, 20-29."
   ]
  }
 ],
 "metadata": {
  "kernelspec": {
   "display_name": "Python 3 (ipykernel)",
   "language": "python",
   "name": "python3"
  },
  "language_info": {
   "codemirror_mode": {
    "name": "ipython",
    "version": 3
   },
   "file_extension": ".py",
   "mimetype": "text/x-python",
   "name": "python",
   "nbconvert_exporter": "python",
   "pygments_lexer": "ipython3",
   "version": "3.11.7"
  }
 },
 "nbformat": 4,
 "nbformat_minor": 5
}
